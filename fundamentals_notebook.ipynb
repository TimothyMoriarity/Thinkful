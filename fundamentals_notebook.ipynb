{
 "cells": [
  {
   "cell_type": "code",
   "execution_count": 18,
   "metadata": {},
   "outputs": [],
   "source": [
    "import pandas as pd\n",
    "import numpy as np\n",
    "import matplotlib.pyplot as plt\n",
    "import statistics\n",
    "import math\n",
    "import random\n",
    "\n",
    "from scipy.stats import ttest_ind\n",
    "%matplotlib inline"
   ]
  },
  {
   "cell_type": "markdown",
   "metadata": {},
   "source": [
    "### Unit 1"
   ]
  },
  {
   "cell_type": "code",
   "execution_count": 26,
   "metadata": {},
   "outputs": [],
   "source": [
    "stats = pd.read_csv('Data/marvel-superheroes/charcters_stats.csv')"
   ]
  },
  {
   "cell_type": "markdown",
   "metadata": {},
   "source": [
    "#### String Drills"
   ]
  },
  {
   "cell_type": "markdown",
   "metadata": {},
   "source": [
    "1 Complete the function body for this hello() function so that it takes one argument (person, a string) and returns a string saying hello to that person. The result should be formatted so that when you call the function like this:"
   ]
  },
  {
   "cell_type": "code",
   "execution_count": 25,
   "metadata": {},
   "outputs": [],
   "source": [
    "def hello(name):\n",
    "    return 'Hello, ' + name"
   ]
  },
  {
   "cell_type": "code",
   "execution_count": 29,
   "metadata": {},
   "outputs": [
    {
     "data": {
      "text/plain": [
       "'Hello, Tim'"
      ]
     },
     "execution_count": 29,
     "metadata": {},
     "output_type": "execute_result"
    }
   ],
   "source": [
    "hello(name)"
   ]
  },
  {
   "cell_type": "markdown",
   "metadata": {},
   "source": [
    "2 This function should take two string parameters: a person's name (name) and a quote of theirs (quote), and return a string attributing the quote to the person in the following format:"
   ]
  },
  {
   "cell_type": "code",
   "execution_count": 50,
   "metadata": {},
   "outputs": [],
   "source": [
    "def quotable(name, quote):\n",
    "    return name+' said: \"'+quote+'\"'"
   ]
  },
  {
   "cell_type": "code",
   "execution_count": 51,
   "metadata": {},
   "outputs": [],
   "source": [
    "N = 'Tim'\n",
    "Q = 'Party on Wayne'"
   ]
  },
  {
   "cell_type": "code",
   "execution_count": 52,
   "metadata": {},
   "outputs": [
    {
     "data": {
      "text/plain": [
       "'Tim said: \"Party on Wayne\"'"
      ]
     },
     "execution_count": 52,
     "metadata": {},
     "output_type": "execute_result"
    }
   ],
   "source": [
    "quotable(N,Q)"
   ]
  },
  {
   "cell_type": "markdown",
   "metadata": {},
   "source": [
    "3 Write a function named repeater() that takes two arguments (a string and an integer), and returns a new string where the input string is repeated that many times"
   ]
  },
  {
   "cell_type": "code",
   "execution_count": 57,
   "metadata": {},
   "outputs": [],
   "source": [
    "def repeater(string, n):\n",
    "    return string*n"
   ]
  },
  {
   "cell_type": "code",
   "execution_count": 58,
   "metadata": {},
   "outputs": [],
   "source": [
    "string = 'TiM'\n",
    "n = 3"
   ]
  },
  {
   "cell_type": "code",
   "execution_count": 59,
   "metadata": {},
   "outputs": [
    {
     "data": {
      "text/plain": [
       "'TiMTiMTiM'"
      ]
     },
     "execution_count": 59,
     "metadata": {},
     "output_type": "execute_result"
    }
   ],
   "source": [
    "repeater(string, n)"
   ]
  },
  {
   "cell_type": "markdown",
   "metadata": {},
   "source": [
    "4 This challenge extends the previous repeater() challenge. Just like last time, your job is to write a function that accepts a string and a number as arguments. This time, however, you should format the string you return like this:\n",
    "\n",
    "repeater('yo', 3)\n",
    "\n",
    "'\"yo\" repeated 3 times is: \"yoyoyo\"'"
   ]
  },
  {
   "cell_type": "code",
   "execution_count": 90,
   "metadata": {},
   "outputs": [],
   "source": [
    "def repeater_2(string, n):\n",
    "    return'\"{}\" repeated {} times is: \"{}\"'.format(string, n, string*n)"
   ]
  },
  {
   "cell_type": "code",
   "execution_count": 91,
   "metadata": {},
   "outputs": [],
   "source": [
    "S = 'Dum'\n",
    "n = 2"
   ]
  },
  {
   "cell_type": "code",
   "execution_count": 92,
   "metadata": {},
   "outputs": [
    {
     "data": {
      "text/plain": [
       "'\"Dum\" repeated 2 times is: \"DumDum\"'"
      ]
     },
     "execution_count": 92,
     "metadata": {},
     "output_type": "execute_result"
    }
   ],
   "source": [
    "repeater_2(S,n)"
   ]
  },
  {
   "cell_type": "markdown",
   "metadata": {},
   "source": [
    "5 You just took a contract with the Jedi council. They need you to write a function, greet_jedi(), which takes two arguments (a first name and a last name), works out the corresponding Jedi name, and returns a string greeting the Jedi.\n",
    "\n",
    "A person's Jedi name is the first three letters of their last name followed by the first two letters of their first name. For example:\n",
    "\n",
    "greet_jedi('Beyonce', 'Knowles')\n",
    "\n",
    "'Greetings, master KnoBe'"
   ]
  },
  {
   "cell_type": "code",
   "execution_count": 103,
   "metadata": {},
   "outputs": [],
   "source": [
    "def greet_jedi(first, last):\n",
    "    last = last.capitalize()\n",
    "    first = first.capitalize()\n",
    "    return 'Greetings, master {}'.format(last[:3]+first[:2])"
   ]
  },
  {
   "cell_type": "code",
   "execution_count": 104,
   "metadata": {},
   "outputs": [],
   "source": [
    "first = 'Timothy'\n",
    "last = \"Moriarity\""
   ]
  },
  {
   "cell_type": "code",
   "execution_count": 105,
   "metadata": {},
   "outputs": [
    {
     "data": {
      "text/plain": [
       "'Greetings, master MorTi'"
      ]
     },
     "execution_count": 105,
     "metadata": {},
     "output_type": "execute_result"
    }
   ],
   "source": [
    "greet_jedi(first,last)"
   ]
  },
  {
   "cell_type": "markdown",
   "metadata": {},
   "source": [
    "6 You've got a bunch of textual data with embedded phone numbers. Write a function area_code() that finds and returns just the area code portion of the phone number.\n",
    "\n",
    "message = \"The supplier's phone number is (555) 867-5309\"\n",
    "\n",
    "area_code(message)\n",
    "\n",
    "'555'"
   ]
  },
  {
   "cell_type": "code",
   "execution_count": 106,
   "metadata": {},
   "outputs": [],
   "source": [
    "def area_code(text):\n",
    "    start = text.find('(')+1\n",
    "    end = text.find(')')\n",
    "    return text[start:end]"
   ]
  },
  {
   "cell_type": "code",
   "execution_count": 107,
   "metadata": {},
   "outputs": [],
   "source": [
    "message = \"The supplier's phone number is (555) 867-5309\""
   ]
  },
  {
   "cell_type": "code",
   "execution_count": 108,
   "metadata": {},
   "outputs": [
    {
     "data": {
      "text/plain": [
       "'555'"
      ]
     },
     "execution_count": 108,
     "metadata": {},
     "output_type": "execute_result"
    }
   ],
   "source": [
    "area_code(message)"
   ]
  },
  {
   "cell_type": "markdown",
   "metadata": {},
   "source": [
    "7 You have a collection of lovely poems. Unfortuantely they aren't formatted very well. They're all on one line, like this:\n",
    "\n",
    "Beautiful is better than ugly. Explicit is better than implicit. Simple is better than complex. Complex is better than complicated.\n",
    "\n",
    "What you want is to present each sentence on a new line, so that it looks like this:\n",
    "\n",
    "    Beautiful is better than ugly.\n",
    "\n",
    "    Explicit is better than implicit.\n",
    "\n",
    "    Simple is better than complex.\n",
    "\n",
    "    Complex is better than complicated."
   ]
  },
  {
   "cell_type": "code",
   "execution_count": 127,
   "metadata": {},
   "outputs": [],
   "source": [
    "def format_poem(poem):\n",
    "    return poem.replace('. ', \".\\n\")"
   ]
  },
  {
   "cell_type": "code",
   "execution_count": 128,
   "metadata": {},
   "outputs": [],
   "source": [
    "poem = \"Beautiful is better than ugly. Explicit is better than implicit. Simple is better than complex. Complex is better than complicated.\""
   ]
  },
  {
   "cell_type": "code",
   "execution_count": 130,
   "metadata": {},
   "outputs": [
    {
     "name": "stdout",
     "output_type": "stream",
     "text": [
      "Beautiful is better than ugly.\n",
      "Explicit is better than implicit.\n",
      "Simple is better than complex.\n",
      "Complex is better than complicated.\n"
     ]
    }
   ],
   "source": [
    "print(format_poem(poem))"
   ]
  },
  {
   "cell_type": "markdown",
   "metadata": {},
   "source": [
    "#### Number Drills"
   ]
  },
  {
   "cell_type": "markdown",
   "metadata": {},
   "source": [
    "1 You're writing an excruciatingly detailed alternate history novel set in a world where Daniel Gabriel Fahrenheit was never born.\n",
    "\n",
    "Since Fahrenheit never lived the world kept on using the Rømer scale, invented by fellow Dane Ole Rømer to this very day, skipping over the Fahrenheit and Celsius scales entirely.\n",
    "\n",
    "Your magnum opus contains several thousand references to temperature, but those temperatures are all currently in degrees Celsius. You don't want to convert everything by hand, so you've decided to write a function, celsius_to_romer() that takes a temperature in degrees Celsius and returns the equivalent temperature in degrees Rømer."
   ]
  },
  {
   "cell_type": "code",
   "execution_count": 132,
   "metadata": {},
   "outputs": [],
   "source": [
    "def celsius_to_romer(temp):\n",
    "    return (temp* 21/40) +7.5"
   ]
  },
  {
   "cell_type": "markdown",
   "metadata": {},
   "source": [
    "2\n",
    "You're laying out a rad pixel art mural to paint on your living room wall in homage to Paul Robertson, your favorite pixel artist.\n",
    "\n",
    "You want your work to be perfect down to the millimeter. You haven't decided on the dimensions of your piece, how large you want your pixels to be, or which wall you want to use. You just know that you want to fit an exact number of pixels.\n",
    "\n",
    "To help decide those things you've decided to write a function, is_divisible() that will tell you whether a wall of a certain length can exactly fit an integer number of pixels of a certain length.\n",
    "\n",
    "Your function should take two arguments: the size of the wall in millimeters and the size of a pixel in millimeters. It should return True if you can fit an exact number of pixels on the wall, otherwise it should return False. For example is_divisible(4050, 27) should return True, but is_divisible(4066, 27) should return False.\n",
    "\n",
    "Note: you don't need to use an if statement here. Remember that in Python an expression using the == comparison operator will evaluate to either True or False:"
   ]
  },
  {
   "cell_type": "code",
   "execution_count": 134,
   "metadata": {},
   "outputs": [],
   "source": [
    "def is_divisible(wall_length, pixel_size):\n",
    "    return wall_length % pixel_size == 0"
   ]
  },
  {
   "cell_type": "code",
   "execution_count": 135,
   "metadata": {},
   "outputs": [
    {
     "data": {
      "text/plain": [
       "True"
      ]
     },
     "execution_count": 135,
     "metadata": {},
     "output_type": "execute_result"
    }
   ],
   "source": [
    "is_divisible(4050, 27)"
   ]
  },
  {
   "cell_type": "code",
   "execution_count": 136,
   "metadata": {},
   "outputs": [
    {
     "data": {
      "text/plain": [
       "False"
      ]
     },
     "execution_count": 136,
     "metadata": {},
     "output_type": "execute_result"
    }
   ],
   "source": [
    "is_divisible(4066, 27)"
   ]
  },
  {
   "cell_type": "markdown",
   "metadata": {},
   "source": [
    "3 You and a friend have decided to play a game to drill your statistical intuitions. The game works like this:\n",
    "\n",
    "You have a bunch of red and blue marbles. To start the game you grab a handful of marbles of each color and put them into the bag, keeping track of how many of each color go in. You take turns reaching into the bag, guessing a color, and then pulling one marble out. You get a point if you guessed correctly. The trick is you only have three seconds to make your guess, so you have to think quickly.\n",
    "\n",
    "You've decided to write a function, guess_blue() to help automatically calculate whether you should guess \"blue\" or \"red\". The function should take four arguments:\n",
    "\n",
    "    the number of blue marbles you put in the bag to start\n",
    "    the number of red marbles you put in the bag to start\n",
    "    the number of blue marbles pulled out so far, and\n",
    "    the number of red marbles pulled out so far.\n",
    "guess_blue() should return the probability of drawing a blue marble, expressed as a float. For example, guess_blue(5, 5, 2, 3) should return 0.6."
   ]
  },
  {
   "cell_type": "code",
   "execution_count": 137,
   "metadata": {},
   "outputs": [],
   "source": [
    "def guess_blue(blue_start, red_start, blue_pulled, red_pulled):\n",
    "    blue_left = blue_start - blue_pulled\n",
    "    red_left = red_start - red_pulled\n",
    "    return blue_left/(blue_left + red_left)"
   ]
  },
  {
   "cell_type": "code",
   "execution_count": 138,
   "metadata": {},
   "outputs": [
    {
     "data": {
      "text/plain": [
       "0.6"
      ]
     },
     "execution_count": 138,
     "metadata": {},
     "output_type": "execute_result"
    }
   ],
   "source": [
    "guess_blue(5,5,2,3)"
   ]
  },
  {
   "cell_type": "markdown",
   "metadata": {},
   "source": [
    "4 Your company, Congo Pizza, is the second-largest online frozen pizza retailer. You own a number of international warehouses that you use to store your frozen pizzas, and you need to figure out how many crates of pizzas you can store at each location.\n",
    "\n",
    "Congo recently standardized its storage containers: all pizzas fit inside a cubic crate, 16-inchs on a side. The crates are super tough so you can stack them as high as you want.\n",
    "\n",
    "Write a function box_capacity() that figures out how many crates you can store in a given warehouse. The function should take three arguments: the length, width, and height of your warehouse (in feet) and should return an integer representing the number of boxes you can store in that space.\n",
    "\n",
    "For example: a warehouse 32 feet long, 64 feet wide, and 16 feet high can hold 13,824 boxes because you can fit 24 boxes across, 48 boxes deep, and 12 boxes high, so box_capacity(32, 64, 16) should return 13824."
   ]
  },
  {
   "cell_type": "code",
   "execution_count": 139,
   "metadata": {},
   "outputs": [],
   "source": [
    "def box_capacity(length, width, height):\n",
    "    return ((length*12)//16)*((width*12)//16)*((height*12)//16)"
   ]
  },
  {
   "cell_type": "code",
   "execution_count": 140,
   "metadata": {},
   "outputs": [
    {
     "data": {
      "text/plain": [
       "13824"
      ]
     },
     "execution_count": 140,
     "metadata": {},
     "output_type": "execute_result"
    }
   ],
   "source": [
    "box_capacity(32,64,16)"
   ]
  },
  {
   "cell_type": "markdown",
   "metadata": {},
   "source": [
    "5 Remember all those quadratic equations you had to solve by hand in highschool? Well, no more! You're going to solve all the quadratic equations you might ever[1] have to wrangle with in the future once and for all by coding up the quadratic formula to handle them automatically.\n",
    "\n",
    "Write a function quadratic_formula() that takes three arguments, a, b, and c that represent the coefficients in a formula of the form ax^2 + bx + c = 0. Your function shoud return a list with two elements where each element is one of the two roots. If the formula produces a double root the result should be a list where both elements are that value.\n",
    "\n",
    "For example, quadratic_formula(2, 16, 1) should return the list [-0.06299606299409444, -7.937003937005906]. The order of the roots is not important.\n",
    "\n",
    "[1] Well, not ever ever. You don't need to worry about getting quadratic equations with complex roots where you need the square root of a negative number. All the test cases will be for equations with real roots."
   ]
  },
  {
   "cell_type": "code",
   "execution_count": 141,
   "metadata": {},
   "outputs": [],
   "source": [
    "def quadratic_formula(a, b, c):\n",
    "    root1 = (-b + ((b**2)-(4*a*c))**.5)/(2*a)\n",
    "    root2 = (-b - ((b**2)-(4*a*c))**.5)/(2*a)\n",
    "    return [root1, root2]"
   ]
  },
  {
   "cell_type": "code",
   "execution_count": 142,
   "metadata": {},
   "outputs": [
    {
     "data": {
      "text/plain": [
       "[-0.06299606299409444, -7.937003937005906]"
      ]
     },
     "execution_count": 142,
     "metadata": {},
     "output_type": "execute_result"
    }
   ],
   "source": [
    "quadratic_formula(2,16,1)"
   ]
  },
  {
   "cell_type": "markdown",
   "metadata": {},
   "source": [
    "#### Logic Drills "
   ]
  },
  {
   "cell_type": "markdown",
   "metadata": {},
   "source": [
    "1 You're writing code to control your town's traffic lights. You need a function to handle each change from green, to yellow, to red, and then to green again.\n",
    "\n",
    "Complete the function that takes a string as an argument representing the current state of the light and returns a string representing the state the light should change to.\n",
    "\n",
    "For example, update_light('green') should return 'yellow'."
   ]
  },
  {
   "cell_type": "code",
   "execution_count": 143,
   "metadata": {},
   "outputs": [],
   "source": [
    "def update_light(current):\n",
    "    if current == 'red':\n",
    "        return 'green'\n",
    "    elif current == 'green':\n",
    "        return 'yellow'\n",
    "    else:\n",
    "        return 'red'"
   ]
  },
  {
   "cell_type": "code",
   "execution_count": 145,
   "metadata": {},
   "outputs": [
    {
     "data": {
      "text/plain": [
       "'red'"
      ]
     },
     "execution_count": 145,
     "metadata": {},
     "output_type": "execute_result"
    }
   ],
   "source": [
    "update_light('yellow')"
   ]
  },
  {
   "cell_type": "markdown",
   "metadata": {},
   "source": [
    "2 Write a function take_umbrella() that takes two arguments: a string representing the current weather and a float representing the chance of rain today.\n",
    "\n",
    "Your function should return True or False based on the following criteria.\n",
    "\n",
    "You should take an umbrella if it's currently raining or if it's cloudy and the chance of rain is over 0.20.\n",
    "You shouldn't take an umbrella if it's sunny unless it's more likely to rain than not.\n",
    "The options for the current weather are sunny, cloudy, and rainy.\n",
    "\n",
    "For example, take_umbrella('sunny', 0.40) should return False.\n",
    "\n",
    "As an additional challenge, consider solving this kata using only logical operaters and not using any if statements."
   ]
  },
  {
   "cell_type": "code",
   "execution_count": 150,
   "metadata": {},
   "outputs": [],
   "source": [
    "def take_umbrella(weather, rain_chance):\n",
    "    if weather == 'rainy':\n",
    "        return True\n",
    "    elif weather == 'cloudy' and rain_chance >.2:\n",
    "        return True\n",
    "    elif rain_chance >.5:\n",
    "        return True\n",
    "    else:\n",
    "        return False"
   ]
  },
  {
   "cell_type": "code",
   "execution_count": 149,
   "metadata": {},
   "outputs": [
    {
     "data": {
      "text/plain": [
       "False"
      ]
     },
     "execution_count": 149,
     "metadata": {},
     "output_type": "execute_result"
    }
   ],
   "source": [
    "take_umbrella('sunny', .4)"
   ]
  },
  {
   "cell_type": "code",
   "execution_count": 152,
   "metadata": {},
   "outputs": [],
   "source": [
    "def take_umbrella(weather, rain_chance):\n",
    "    return (weather=='cloudy' and rain_chance>0.20) or weather=='rainy' or (weather=='sunny' and rain_chance>0.5)"
   ]
  },
  {
   "cell_type": "markdown",
   "metadata": {},
   "source": [
    "3 You like the way the Python + operator easily handles adding different numeric types, but you need a tool to do that kind of addition without killing your program with a TypeError exception whenever you accidentally try adding incompatible types like strings and lists to numbers.\n",
    "\n",
    "You decide to write a function my_add() that takes two arguments. If the arguments can be added together it returns the sum. If adding the arguments together would raise an error the function should return None instead.\n",
    "\n",
    "For example, my_add(1, 3.414) would return 4.414, but my_add(42, \" is the answer.\") would return None.\n",
    "\n",
    "Hint: using a try / except statement "
   ]
  },
  {
   "cell_type": "code",
   "execution_count": 153,
   "metadata": {},
   "outputs": [],
   "source": [
    "def my_add(a, b):\n",
    "    try:\n",
    "        return a+bd\n",
    "    except TypeError:\n",
    "        return None"
   ]
  },
  {
   "cell_type": "code",
   "execution_count": 154,
   "metadata": {},
   "outputs": [
    {
     "data": {
      "text/plain": [
       "8"
      ]
     },
     "execution_count": 154,
     "metadata": {},
     "output_type": "execute_result"
    }
   ],
   "source": [
    "my_add(3, 5)"
   ]
  },
  {
   "cell_type": "code",
   "execution_count": 156,
   "metadata": {},
   "outputs": [],
   "source": [
    "my_add(7, 'cheese')"
   ]
  },
  {
   "cell_type": "markdown",
   "metadata": {},
   "source": [
    "4 You're playing a game with a friend involving a bag of marbles. In the bag are ten marbles:\n",
    "\n",
    "    1 smooth red marble\n",
    "    4 bumpy red marbles\n",
    "    2 bumpy yellow marbles\n",
    "    1 smooth yellow marble\n",
    "    1 bumpy green marble\n",
    "    1 smooth green marble\n",
    "\n",
    "You can see that the probability of picking a smooth red marble from the bag is 1 / 10 or 0.10 and the probability of picking a bumpy yellow marble is 2 / 10 or 0.20.\n",
    "\n",
    "The game works like this: your friend puts her hand in the bag, chooses a marble (without looking at it) and tells you whether it's bumpy or smooth. Then you have to guess which color it is before she pulls it out and reveals whether you're correct or not.\n",
    "\n",
    "You know that the information about whether the marble is bumpy or smooth changes the probability of what color it is, and you want some help with your guesses.\n",
    "\n",
    "Write a function color_probability() that takes two arguments: a color ('red', 'yellow', or 'green') and a texture ('bumpy' or 'smooth') and returns the probability as a decimal fraction accurate to two places.\n",
    "\n",
    "The probability should be a string and should discard any digits after the 100ths place. For example, 2 / 3 or 0.6666666666666666 would become the string '0.66'. Note this is different from rounding.\n",
    "\n",
    "As a complete example, color_probability('red', 'bumpy') should return the string '0.57'."
   ]
  },
  {
   "cell_type": "code",
   "execution_count": 163,
   "metadata": {},
   "outputs": [],
   "source": [
    "def color_probability(color, texture):\n",
    "    if texture == 'bumpy':\n",
    "        if color == 'red':\n",
    "            result = 4/7\n",
    "        elif color == 'yellow':\n",
    "            result = 2/7\n",
    "        else:\n",
    "            result = 1/7\n",
    "    else:\n",
    "        result = 1/3\n",
    "    return str(result)[:4]"
   ]
  },
  {
   "cell_type": "code",
   "execution_count": 164,
   "metadata": {},
   "outputs": [
    {
     "data": {
      "text/plain": [
       "'0.57'"
      ]
     },
     "execution_count": 164,
     "metadata": {},
     "output_type": "execute_result"
    }
   ],
   "source": [
    "color_probability('red', 'bumpy')"
   ]
  },
  {
   "cell_type": "code",
   "execution_count": 165,
   "metadata": {},
   "outputs": [],
   "source": [
    "### codewars top result\n",
    "def color_probability(color, texture):\n",
    "    marbles = {\"smooth\": {\"red\": 1, \"yellow\": 1, \"green\": 1, \"total\": 3}, \"bumpy\": {\"red\": 4, \"yellow\": 2, \"green\": 1, \"total\": 7}}\n",
    "    return \"{}\".format(marbles[texture][color] / marbles[texture][\"total\"])[:4]"
   ]
  },
  {
   "cell_type": "markdown",
   "metadata": {},
   "source": [
    "5 As a member of the editorial board of the prestigous scientific Journal Proceedings of the National Academy of Sciences, you've decided to go back and review how well old articles you've published stand up to modern publication best practices. Specifically, you'd like to re-evaluate old findings in light of recent literature about \"researcher degrees of freedom\".\n",
    "\n",
    "You want to categorize all the old articles into three groups: \"Fine\", \"Needs review\" and \"Pants on fire\".\n",
    "\n",
    "In order to categorize them you've enlisted an army of unpaid grad students to review and give you two data points from each study: (1) the p-value behind the paper's primary conclusions, and (2) the number of recommended author requirements to limit researcher degrees of freedom the authors satisfied:\n",
    "\n",
    "    * Authors must decide the rule for terminating data collection before data collection begins and report this rule in the article.\n",
    "    * Authors must collect at least 20 observations per cell or else provide a compelling cost-of-data-collection justification. \n",
    "    * Authors must list all variables collected in a study.\n",
    "    * Authors must report all experimental conditions, including failed manipulations.\n",
    "    * If observations are eliminated, authors must also report what the statistical results are if those observations are included.\n",
    "    * If an analysis includes a covariate, authors must report the statistical results of the analysis without the covariate.\n",
    "Your army of tenure-hungry grad students will give you the p-value as a float between 1.0 and 0.0 exclusive, and the number of author requirements satisfied as an integer from 0 through 6 inclusive.\n",
    "\n",
    "You've decided to write a function, categorize_study() to automatically categorize each study based on these two inputs using the completely scientifically legitimate \"bs-factor\". The bs-factor for a particular paper is calculated as follows:\n",
    "\n",
    "    bs-factor when the authors satisfy all six requirements is 1\n",
    "    bs-factor when the authors satisfy only five requirements is 2\n",
    "    bs-factor when the authors satisfy only four requirements is 4\n",
    "    bs-factor when the authors satisfy only three requirements is 8...\n",
    "\n",
    "Your function should multiply the p-value by the bs-factor and use that product to return one of the following strings:\n",
    "\n",
    "    product is less than 0.05: \"Fine\"\n",
    "    product is 0.05 to 0.15: \"Needs review\"\n",
    "    product is 0.15 or higher: \"Pants on fire\"\n",
    "\n",
    "You've also decided that all studies meeting none of the author requirements that would have been categorized as \"Fine\" should instead be categorized as \"Needs review\".\n",
    "\n",
    "For example:\n",
    "\n",
    "categorize_study(0.01, 3) should return \"Needs review\" because the p-value times the bs-factor is 0.08.\n",
    "\n",
    "categorize_study(0.04, 6) should return \"Fine\" because the p-value times the bs-factor is only 0.04.\n",
    "\n",
    "categorize_study(0.0001, 0) should return \"Needs review\" even though the p-value times the bs-factor is only 0.0064.\n",
    "\n",
    "categorize_study(0.012, 0) should return \"Pants on fire\" because the p-value times the bs-factor is 0.768."
   ]
  },
  {
   "cell_type": "code",
   "execution_count": null,
   "metadata": {},
   "outputs": [],
   "source": [
    "def categorize_study(p_value, requirements):\n",
    "    study_value = p_value * (2**(6-requirements))\n",
    "    \n",
    "    if study_value < 0.05 and requirements != 0:\n",
    "        return \"Fine\"\n",
    "    elif study_value < 0.05 and requirements == 0:\n",
    "        return \"Needs review\"\n",
    "    elif study_value > 0.05 and study_value < 0.15:\n",
    "        return \"Needs review\"\n",
    "    else:\n",
    "        return \"Pants on fire\""
   ]
  },
  {
   "cell_type": "code",
   "execution_count": 166,
   "metadata": {},
   "outputs": [],
   "source": [
    "def categorize_study(p_value, requirements):\n",
    "    bs_factor = 2 ** (6 - requirements)\n",
    "    product = p_value * bs_factor\n",
    "    \n",
    "    if product < 0.05:\n",
    "        result = \"Fine\"\n",
    "    elif product < 0.15:\n",
    "        result = \"Needs review\"\n",
    "    else:\n",
    "        result = \"Pants on fire\"\n",
    "    \n",
    "    if requirements == 0 and result == \"Fine\":\n",
    "        result = \"Needs review\"\n",
    "        \n",
    "    return result"
   ]
  },
  {
   "cell_type": "markdown",
   "metadata": {},
   "source": [
    "#### Loops and Lists Drills"
   ]
  },
  {
   "cell_type": "markdown",
   "metadata": {},
   "source": [
    "1 Complete the function that takes one argument, a list of words, and returns the length of the longest word in the list.\n",
    "\n",
    "For example:\n",
    "\n",
    "['simple', 'is', 'better', 'than', 'complex'] ==> 7\n",
    "\n",
    "Do not modify the input list."
   ]
  },
  {
   "cell_type": "code",
   "execution_count": 5,
   "metadata": {},
   "outputs": [],
   "source": [
    "def longest(words):\n",
    "    lengths = []\n",
    "    for word in words:\n",
    "        lengths.append(len(word))\n",
    "    return max(lengths)"
   ]
  },
  {
   "cell_type": "code",
   "execution_count": 6,
   "metadata": {},
   "outputs": [],
   "source": [
    "words = ['simple', 'is', 'better', 'than', 'complex']"
   ]
  },
  {
   "cell_type": "code",
   "execution_count": 7,
   "metadata": {},
   "outputs": [
    {
     "data": {
      "text/plain": [
       "7"
      ]
     },
     "execution_count": 7,
     "metadata": {},
     "output_type": "execute_result"
    }
   ],
   "source": [
    "longest(words)"
   ]
  },
  {
   "cell_type": "code",
   "execution_count": null,
   "metadata": {},
   "outputs": [],
   "source": [
    "def longest(words):\n",
    "    return max(map(len, words))"
   ]
  },
  {
   "cell_type": "markdown",
   "metadata": {},
   "source": [
    "2 You're a statistics professor and the deadline for submitting your students' grades is tonight at midnight. Each student's grade is determined by their mean score across all of the tests they took this semester.\n",
    "\n",
    "You've decided to automate grade calculation by writing a function calculate_grade() that takes a list of test scores as an argument and returns a one character string representing the student's grade calculated as follows:\n",
    "\n",
    "    90% <= mean score <= 100%: \"A\",\n",
    "    80% <= mean score < 90%: \"B\",\n",
    "    70% <= mean score < 80%: \"C\",\n",
    "    60% <= mean score < 70%: \"D\",\n",
    "    mean score < 60%: \"F\"\n",
    "\n",
    "For example, calculate_grade([92, 94, 99]) would return \"A\" since the mean score is 95, and calculate_grade([50, 60, 70, 80, 90]) would return \"C\" since the mean score is 70.\n",
    "\n",
    "Your function should handle an input list of any length."
   ]
  },
  {
   "cell_type": "code",
   "execution_count": 8,
   "metadata": {},
   "outputs": [],
   "source": [
    "def calculate_grade(scores):\n",
    "    if sum(scores)/len(scores) >= 90:\n",
    "        return \"A\"\n",
    "    elif sum(scores)/len(scores) < 90 and sum(scores)/len(scores) >= 80:\n",
    "        return \"B\"\n",
    "    elif sum(scores)/len(scores) < 80 and sum(scores)/len(scores) >= 70:\n",
    "        return \"C\"\n",
    "    elif sum(scores)/len(scores) < 70 and sum(scores)/len(scores) >= 60:\n",
    "        return \"D\"\n",
    "    else:\n",
    "        return \"F\""
   ]
  },
  {
   "cell_type": "code",
   "execution_count": null,
   "metadata": {},
   "outputs": [],
   "source": [
    "## thinkful\n",
    "def calculate_grade(scores):\n",
    "    total = 0\n",
    "    for score in scores:\n",
    "        total += score\n",
    "    mean_score = total / len(scores)\n",
    "\n",
    "    if mean_score >= 90:\n",
    "        return \"A\"\n",
    "    elif mean_score >= 80:\n",
    "        return \"B\"\n",
    "    elif mean_score >= 70:\n",
    "        return \"C\"\n",
    "    elif mean_score >= 60:\n",
    "        return \"D\"\n",
    "    else:\n",
    "        return \"F\""
   ]
  },
  {
   "cell_type": "code",
   "execution_count": null,
   "metadata": {},
   "outputs": [],
   "source": [
    "# clever codewars\n",
    "from bisect import bisect\n",
    "from statistics import mean\n",
    "\n",
    "\n",
    "def calculate_grade(scores):\n",
    "    return 'FDCBA'[bisect([60, 70, 80, 90], mean(scores))]"
   ]
  },
  {
   "cell_type": "markdown",
   "metadata": {},
   "source": [
    "3 You have a two-dimensional list in the following format:\n",
    "\n",
    "    data = [[2, 5], [3, 4], [8, 7]]\n",
    "\n",
    "Each sub-list contains two items, and each item in the sub-lists is an integer.\n",
    "\n",
    "Write a function process_data() that processes each sub-list like so:\n",
    "\n",
    "    [2, 5] --> 2 - 5 --> -3\n",
    "    [3, 4] --> 3 - 4 --> -1\n",
    "    [8, 7] --> 8 - 7 --> 1\n",
    "\n",
    "and then returns the product of all the processed sub-lists:\n",
    "\n",
    "    -3 * -1 * 1 --> 3.\n",
    "\n",
    "For input, you can trust that neither the main list nor the sublists will be empty."
   ]
  },
  {
   "cell_type": "code",
   "execution_count": 9,
   "metadata": {},
   "outputs": [],
   "source": [
    "def process_data(data):\n",
    "    results = []\n",
    "    for i in data:\n",
    "        result = i[0] - i[1]\n",
    "        results.append(result)\n",
    "    product = 1\n",
    "    for k in results:\n",
    "        product = k * product\n",
    "    return product"
   ]
  },
  {
   "cell_type": "code",
   "execution_count": null,
   "metadata": {},
   "outputs": [],
   "source": [
    "# thinkful\n",
    "def calculate_grade(scores):\n",
    "    total = 0\n",
    "    for score in scores:\n",
    "        total += score\n",
    "    mean_score = total / len(scores)\n",
    "\n",
    "    if mean_score >= 90:\n",
    "        return \"A\"\n",
    "    elif mean_score >= 80:\n",
    "        return \"B\"\n",
    "    elif mean_score >= 70:\n",
    "        return \"C\"\n",
    "    elif mean_score >= 60:\n",
    "        return \"D\"\n",
    "    else:\n",
    "        return \"F\""
   ]
  },
  {
   "cell_type": "code",
   "execution_count": null,
   "metadata": {},
   "outputs": [],
   "source": [
    "# clever codewars\n",
    "def process_data(data):\n",
    "    r = 1\n",
    "    for d in data:\n",
    "        r *= d[0] - d[1]\n",
    "    return r"
   ]
  },
  {
   "cell_type": "markdown",
   "metadata": {},
   "source": [
    "4 You're familiar with list slicing in Python and know, for example, that:\n",
    "\n",
    "    >>> ages = [12, 14, 63, 72, 55, 24]\n",
    "    >>> ages[2:4]\n",
    "    [63, 72]\n",
    "    >>> ages[2:]\n",
    "    [63, 72, 55, 24]\n",
    "    >>> ages[:3]\n",
    "    [12, 14, 63]\n",
    "    \n",
    "write a function inverse_slice() that takes three arguments: a list items, an integer a and an integer b. The function should return a new list with the slice specified by items[a:b] excluded. For example:\n",
    "\n",
    "    >>>inverse_slice([12, 14, 63, 72, 55, 24], 2, 4)\n",
    "    [12, 14, 55, 24]\n",
    "\n",
    "The input will always be a valid list, a and b will always be different integers equal to or greater than zero, but they may be zero or be larger than the length of the list."
   ]
  },
  {
   "cell_type": "code",
   "execution_count": null,
   "metadata": {},
   "outputs": [],
   "source": [
    "def inverse_slice(items, a, b):\n",
    "    list_a = items[:a]\n",
    "    list_b = items[b:]\n",
    "    for i in list_b:\n",
    "        list_a.append(i)\n",
    "    return list_a"
   ]
  },
  {
   "cell_type": "code",
   "execution_count": 10,
   "metadata": {},
   "outputs": [],
   "source": [
    "# thinkful\n",
    "def inverse_slice(items, a, b):\n",
    "    return items[:a] + items[b:]"
   ]
  },
  {
   "cell_type": "markdown",
   "metadata": {},
   "source": [
    "#### Dictionary Drills"
   ]
  },
  {
   "cell_type": "markdown",
   "metadata": {},
   "source": [
    "1 You're running an online business and a big part of your day is fulfilling orders. As your volume picks up that's been taking more of your time, and unfortunately lately you've been running into situations where you take an order but can't fulfill it.\n",
    "\n",
    "You've decided to write a function fillable() that takes three arguments: a dictionary stock representing all the merchandise you have in stock, a string merch representing the thing your customer wants to buy, and an integer n representing the number of units of merch they would like to buy. Your function should return True if you have the merchandise in stock to complete the sale, otherwise it should return False.\n",
    "\n",
    "Valid data will always be passed in and n will always be >= 1."
   ]
  },
  {
   "cell_type": "code",
   "execution_count": null,
   "metadata": {},
   "outputs": [],
   "source": [
    "def fillable(stock, merch, n):\n",
    "    return merch in stock and stock[merch] >= n"
   ]
  },
  {
   "cell_type": "code",
   "execution_count": 11,
   "metadata": {},
   "outputs": [],
   "source": [
    "# thinkful\n",
    "def fillable(stock, merch, n):\n",
    "    try:\n",
    "        return stock[merch] >= n\n",
    "    except KeyError:\n",
    "        return False"
   ]
  },
  {
   "cell_type": "code",
   "execution_count": 12,
   "metadata": {},
   "outputs": [],
   "source": [
    "# clever codewars\n",
    "def fillable(stock, merch, n):\n",
    "    return stock.get(merch, 0) >= n"
   ]
  },
  {
   "cell_type": "markdown",
   "metadata": {},
   "source": [
    "2 You're putting together contact information for all the users of your website to ship them a small gift. You queried your database and got back a list of users, where each user is another list with up to two items: a string representing the user's name and their shipping zip code. Example data might look like:\n",
    "\n",
    "    [[\"Grae Drake\", 98110], [\"Bethany Kok\"], [\"Alex Nussbacher\", 94101], [\"Darrell Silver\", 11201]]\n",
    "\n",
    "Notice that one of the users above has a name but doesn't have a zip code.\n",
    "\n",
    "Write a function user_contacts() that takes a two-dimensional list like the one above and returns a dictionary with an item for each user where the key is the user's name and the value is the user's zip code. If your data doesn't include a zip code then the value should be None.\n",
    "\n",
    "For example, using the input above, user_contacts() would return this dictionary:\n",
    "\n",
    "    {\n",
    "        \"Grae Drake\": 98110,\n",
    "        \"Bethany Kok\": None,\n",
    "        \"Alex Nussbacher\": 94101,\n",
    "        \"Darrell Silver\": 11201,    \n",
    "    }\n",
    "\n",
    "You don't have to worry about leading zeros in zip codes."
   ]
  },
  {
   "cell_type": "code",
   "execution_count": 13,
   "metadata": {},
   "outputs": [],
   "source": [
    "def user_contacts(data):\n",
    "    result = {}\n",
    "    for user in data:\n",
    "        name = user[0]\n",
    "        try:\n",
    "            zip = user[1]\n",
    "        except IndexError:\n",
    "            zip = None\n",
    "        result[name] = zip\n",
    "    return result"
   ]
  },
  {
   "cell_type": "code",
   "execution_count": 15,
   "metadata": {},
   "outputs": [],
   "source": [
    "# clever codewars\n",
    "def user_contacts(data):\n",
    "    return {contact[0]: contact[1] if len(contact) > 1 else None\n",
    "            for contact in data}"
   ]
  },
  {
   "cell_type": "markdown",
   "metadata": {},
   "source": [
    "3 You probably know that the \"mode\" of a set of data is the data point that appears most frequently. Looking at the characters that make up the string \"sarsaparilla\" we can see that the letter \"a\" appears four times, more than any other letter, so the mode of \"sarsaparilla\" is \"a\".\n",
    "\n",
    "But do you know what happens when two or more data points occur the most? For example, what is the mode of the letters in \"tomato\"? Both \"t\" and \"o\" seem to be tied for appearing most frequently.\n",
    "\n",
    "Turns out that a set of data can, in fact, have multiple modes, so \"tomato\" has two modes: \"t\" and \"o\". It's important to note, though, that if all data appears the same number of times there is no mode. So \"cat\", \"redder\", and [1, 2, 3, 4, 5] do not have a mode.\n",
    "\n",
    "Your job is to write a function modes() that will accept one argument data that is a sequence like a string or a list of numbers and return a sorted list containing the mode(s) of the input sequence. If data does not contain a mode you should return an empty list.\n",
    "\n",
    "For example:\n",
    "\n",
    "    >>> modes(\"tomato\")\n",
    "    [\"o\", \"t\"]\n",
    "    >>> modes([1, 3, 3, 7])\n",
    "    [3]\n",
    "    >>> modes([\"redder\"])\n",
    "    []\n",
    "\n",
    "You can trust that your input data will always be a sequence and will always contain orderable types (no inputs like [1, 2, 2, \"a\", \"b\", \"b\"])."
   ]
  },
  {
   "cell_type": "code",
   "execution_count": 16,
   "metadata": {},
   "outputs": [],
   "source": [
    "# thinkful\n",
    "def modes(data):\n",
    "\n",
    "    # Empty dict we'll use to store item counts.\n",
    "    counts = {}\n",
    "\n",
    "    # Populate the dict.\n",
    "    for value in data:\n",
    "        if value in counts:\n",
    "            counts[value] += 1\n",
    "        else:\n",
    "            counts[value] = 1\n",
    "\n",
    "    # Find the number of times the mode appears.\n",
    "    max_occurrence = max(counts.values())\n",
    "\n",
    "    # Short-circuit if there is no mode.\n",
    "    min_occurrence = min(counts.values())\n",
    "    if max_occurrence == min_occurrence:\n",
    "        return []\n",
    "\n",
    "    # Initialize an empty list to populate and return.\n",
    "    result = []\n",
    "    for key in counts.keys():\n",
    "        if counts[key] == max_occurrence:\n",
    "            result.append(key)\n",
    "\n",
    "    return sorted(result)"
   ]
  },
  {
   "cell_type": "code",
   "execution_count": 17,
   "metadata": {},
   "outputs": [],
   "source": [
    "# clever codewars\n",
    "from collections import Counter\n",
    "\n",
    "def modes(data):\n",
    "    cnts = Counter(data)\n",
    "    mx, mn = max(cnts.values()), min(cnts.values())\n",
    "    return sorted([k for k in cnts if cnts[k] == mx and cnts[k] != mn])"
   ]
  },
  {
   "cell_type": "markdown",
   "metadata": {},
   "source": [
    "#### Object Drills"
   ]
  },
  {
   "cell_type": "markdown",
   "metadata": {},
   "source": [
    "1 Create a Vector class with x and a y attributes that represent component magnitudes in the x and y directions.\n",
    "\n",
    "Your vectors should handle vector additon with an .add() method that takes a second vector as an argument and returns a new vector equal to the sum of the vector you call .add() on and the vector you pass in.\n",
    "\n",
    "For example:\n",
    "\n",
    "    >>> a = Vector(3, 4)\n",
    "    >>> a.x\n",
    "    3\n",
    "    >>> a.y\n",
    "    4\n",
    "    >>> b = Vector(1, 2)\n",
    "    >>> c = a.add(b)\n",
    "    >>> c.x\n",
    "    4\n",
    "    >>> c.y\n",
    "    6\n",
    "    \n",
    "Adding vectors when you have their components is easy: just add the two x components together and the two y components together to get the x and y components for the vector sum."
   ]
  },
  {
   "cell_type": "code",
   "execution_count": 22,
   "metadata": {},
   "outputs": [],
   "source": [
    "class Vector(object):\n",
    "    def __init__(self, x, y):\n",
    "        self.x = x\n",
    "        self.y = y\n",
    "    \n",
    "    def add(self, other_vector):\n",
    "        return Vector(self.x + other_vector.x, self.y + other_vector.y)"
   ]
  },
  {
   "cell_type": "code",
   "execution_count": null,
   "metadata": {},
   "outputs": [],
   "source": [
    "# thinkful\n",
    "\n",
    "class Vector(object):\n",
    "    def __init__(self, x, y):\n",
    "        self.x = x\n",
    "        self.y = y\n",
    "        \n",
    "    def add(self, b):\n",
    "        return Vector(self.x + b.x, self.y + b.y)"
   ]
  },
  {
   "cell_type": "markdown",
   "metadata": {},
   "source": [
    "2 You're given a mystery puzzlebox object. Examine it to make the tests pass and Solve"
   ]
  },
  {
   "cell_type": "code",
   "execution_count": null,
   "metadata": {},
   "outputs": [],
   "source": [
    "def answer(puzzlebox):\n",
    "    print(dir(puzzlebox))\n",
    "    print(puzzlebox.hint)\n",
    "    print(puzzlebox.hint_two)\n",
    "    print(puzzlebox.key)\n",
    "    print(puzzlebox.lock(puzzlebox.key)) \n",
    "       \n",
    "    print(\"What is 7 mulitplied by 6?\")\n",
    "    return 42"
   ]
  },
  {
   "cell_type": "markdown",
   "metadata": {},
   "source": [
    "3 ackground\n",
    "You're modelling the interaction between a large number of quarks and have decided to create a Quark class so you can generate your own quark objects.\n",
    "\n",
    "Quarks are fundamental particles and the only fundamental particle to experience all four fundamental forces.\n",
    "\n",
    "Your task\n",
    "Your Quark class should allow you to create quarks of any valid color (\"red\", \"blue\", and \"green\") and any valid flavor ('up', 'down', 'strange', 'charm', 'top', and 'bottom').\n",
    "\n",
    "Every quark has the same baryon_number (BaryonNumber in C#): 1/3.\n",
    "\n",
    "Every quark should have an .interact() (.Interact() in C#) method that allows any quark to interact with another quark via the strong force. When two quarks interact they exchange colors.\n",
    "\n",
    "Example\n",
    "\n",
    "    >>> q1 = Quark(\"red\", \"up\")\n",
    "    >>> q1.color\n",
    "    \"red\"\n",
    "    >>> q1.flavor\n",
    "    \"up\"\n",
    "    >>> q2 = Quark(\"blue\", \"strange\")\n",
    "    >>> q2.color\n",
    "    \"blue\"\n",
    "    >>> q2.baryon_number\n",
    "    0.3333333333333333\n",
    "    >>> q1.interact(q2)\n",
    "    >>> q1.color\n",
    "    \"blue\"\n",
    "    >>> q2.color\n",
    "    \"red\""
   ]
  },
  {
   "cell_type": "code",
   "execution_count": 25,
   "metadata": {},
   "outputs": [],
   "source": [
    "class Quark(object):\n",
    "    def __init__(self, color, flavor):\n",
    "        self.color = color\n",
    "        self.flavor = flavor\n",
    "    \n",
    "    baryon_number = 1/3\n",
    "    \n",
    "    def interact(self, other_quark):\n",
    "        self.color, other_quark.color = other_quark.color, self.color\n",
    "        \n",
    "        "
   ]
  },
  {
   "cell_type": "code",
   "execution_count": null,
   "metadata": {},
   "outputs": [],
   "source": [
    "# clever codewars\n",
    "class Quark(object):\n",
    "    def __init__(self, color, flavor):\n",
    "        self.color, self.flavor, self.baryon_number = color, flavor, 1/3.\n",
    "    def interact(self, other):\n",
    "        self.color, other.color = other.color, self.color"
   ]
  },
  {
   "cell_type": "markdown",
   "metadata": {},
   "source": [
    "### Unit 2 "
   ]
  },
  {
   "cell_type": "markdown",
   "metadata": {},
   "source": [
    "Challenge"
   ]
  },
  {
   "cell_type": "code",
   "execution_count": 30,
   "metadata": {},
   "outputs": [],
   "source": [
    "stats_df = pd.DataFrame(stats)"
   ]
  },
  {
   "cell_type": "code",
   "execution_count": 36,
   "metadata": {},
   "outputs": [
    {
     "data": {
      "image/png": "[encoded data removed]",
      "text/plain": [
       "<matplotlib.figure.Figure at 0x25cac2bf5c0>"
      ]
     },
     "metadata": {},
     "output_type": "display_data"
    }
   ],
   "source": [
    "plt.figure(figsize=(14, 15))\n",
    "\n",
    "plt.subplot(3,2,1)\n",
    "plt.scatter(stats_df['Total'], stats_df['Intelligence'], c='blue')\n",
    "plt.ylabel('Intelligence')\n",
    "plt.xlabel('Total')\n",
    "plt.title('Intelligence vs. Total')\n",
    "\n",
    "plt.subplot(3,2,2)\n",
    "plt.scatter(stats_df['Total'], stats_df['Strength'], c='blue')\n",
    "plt.ylabel('Strength')\n",
    "plt.xlabel('Total')\n",
    "plt.title('Strength vs. Total')\n",
    "\n",
    "plt.subplot(3,2,3)\n",
    "plt.scatter(stats_df['Total'], stats_df['Speed'], c='blue')\n",
    "plt.ylabel('Speed')\n",
    "plt.xlabel('Total')\n",
    "plt.title('Speed vs. Total')\n",
    "\n",
    "plt.subplot(3,2,4)\n",
    "plt.scatter(stats_df['Total'], stats_df['Durability'], c='blue')\n",
    "plt.ylabel('Durability')\n",
    "plt.xlabel('Total')\n",
    "plt.title('Durability vs. Total')\n",
    "\n",
    "plt.subplot(3,2,5)\n",
    "plt.scatter(stats_df['Total'], stats_df['Power'], c='blue')\n",
    "plt.ylabel('Power')\n",
    "plt.xlabel('Total')\n",
    "plt.title('Power vs. Total')\n",
    "\n",
    "plt.subplot(3,2,6)\n",
    "plt.scatter(stats_df['Total'], stats_df['Combat'], c='blue')\n",
    "plt.ylabel('Combat')\n",
    "plt.xlabel('Total')\n",
    "plt.title('Combat vs. Total')\n",
    "\n",
    "plt.show()"
   ]
  },
  {
   "cell_type": "markdown",
   "metadata": {},
   "source": [
    "I used this to see if there was a single skill that seemed to be a driving factor in the highest total characters. Not much is really learned other than it does seem that Durability has the most positive trend when compared with Total."
   ]
  },
  {
   "cell_type": "code",
   "execution_count": 49,
   "metadata": {
    "scrolled": true
   },
   "outputs": [
    {
     "data": {
      "image/png": "[encoded data removed]",
      "text/plain": [
       "<matplotlib.figure.Figure at 0x25cac60b438>"
      ]
     },
     "metadata": {},
     "output_type": "display_data"
    }
   ],
   "source": [
    "plt.figure(figsize=(10, 15))\n",
    "\n",
    "plt.subplot(3,2,1)\n",
    "plt.hist(stats_df['Intelligence'], bins=20)\n",
    "plt.title('Intelligence')\n",
    "\n",
    "plt.subplot(3,2,2)\n",
    "plt.hist(stats_df['Strength'], bins=20)\n",
    "plt.title('Strength')\n",
    "\n",
    "plt.subplot(3,2,3)\n",
    "plt.hist(stats_df['Speed'], bins=20)\n",
    "plt.title('Speed')\n",
    "\n",
    "plt.subplot(3,2,4)\n",
    "plt.hist(stats_df['Durability'], bins=20)\n",
    "plt.title('Durability')\n",
    "\n",
    "plt.subplot(3,2,5)\n",
    "plt.hist(stats_df['Power'], bins=20)\n",
    "plt.title('Power')\n",
    "\n",
    "plt.subplot(3,2,6)\n",
    "plt.hist(stats_df['Combat'], bins=20)\n",
    "plt.title('Combat')\n",
    "\n",
    "plt.show()"
   ]
  },
  {
   "cell_type": "markdown",
   "metadata": {},
   "source": [
    "The histograms show that there is clearly something going on with so many of the values falling in such a low bin. This shows that there may be something going on in the data that needs to be investigated further."
   ]
  },
  {
   "cell_type": "code",
   "execution_count": 43,
   "metadata": {},
   "outputs": [
    {
     "data": {
      "text/html": [
       "<div>\n",
       "<style scoped>\n",
       "    .dataframe tbody tr th:only-of-type {\n",
       "        vertical-align: middle;\n",
       "    }\n",
       "\n",
       "    .dataframe tbody tr th {\n",
       "        vertical-align: top;\n",
       "    }\n",
       "\n",
       "    .dataframe thead th {\n",
       "        text-align: right;\n",
       "    }\n",
       "</style>\n",
       "<table border=\"1\" class=\"dataframe\">\n",
       "  <thead>\n",
       "    <tr style=\"text-align: right;\">\n",
       "      <th></th>\n",
       "      <th>Name</th>\n",
       "      <th>Alignment</th>\n",
       "      <th>Intelligence</th>\n",
       "      <th>Strength</th>\n",
       "      <th>Speed</th>\n",
       "      <th>Durability</th>\n",
       "      <th>Power</th>\n",
       "      <th>Combat</th>\n",
       "      <th>Total</th>\n",
       "    </tr>\n",
       "  </thead>\n",
       "  <tbody>\n",
       "    <tr>\n",
       "      <th>0</th>\n",
       "      <td>3-D Man</td>\n",
       "      <td>good</td>\n",
       "      <td>50</td>\n",
       "      <td>31</td>\n",
       "      <td>43</td>\n",
       "      <td>32</td>\n",
       "      <td>25</td>\n",
       "      <td>52</td>\n",
       "      <td>233</td>\n",
       "    </tr>\n",
       "    <tr>\n",
       "      <th>1</th>\n",
       "      <td>A-Bomb</td>\n",
       "      <td>good</td>\n",
       "      <td>38</td>\n",
       "      <td>100</td>\n",
       "      <td>17</td>\n",
       "      <td>80</td>\n",
       "      <td>17</td>\n",
       "      <td>64</td>\n",
       "      <td>316</td>\n",
       "    </tr>\n",
       "    <tr>\n",
       "      <th>2</th>\n",
       "      <td>Abe Sapien</td>\n",
       "      <td>good</td>\n",
       "      <td>88</td>\n",
       "      <td>14</td>\n",
       "      <td>35</td>\n",
       "      <td>42</td>\n",
       "      <td>35</td>\n",
       "      <td>85</td>\n",
       "      <td>299</td>\n",
       "    </tr>\n",
       "    <tr>\n",
       "      <th>3</th>\n",
       "      <td>Abin Sur</td>\n",
       "      <td>good</td>\n",
       "      <td>50</td>\n",
       "      <td>90</td>\n",
       "      <td>53</td>\n",
       "      <td>64</td>\n",
       "      <td>84</td>\n",
       "      <td>65</td>\n",
       "      <td>406</td>\n",
       "    </tr>\n",
       "    <tr>\n",
       "      <th>4</th>\n",
       "      <td>Abomination</td>\n",
       "      <td>bad</td>\n",
       "      <td>63</td>\n",
       "      <td>80</td>\n",
       "      <td>53</td>\n",
       "      <td>90</td>\n",
       "      <td>55</td>\n",
       "      <td>95</td>\n",
       "      <td>436</td>\n",
       "    </tr>\n",
       "    <tr>\n",
       "      <th>5</th>\n",
       "      <td>Abraxas</td>\n",
       "      <td>bad</td>\n",
       "      <td>88</td>\n",
       "      <td>100</td>\n",
       "      <td>83</td>\n",
       "      <td>99</td>\n",
       "      <td>100</td>\n",
       "      <td>56</td>\n",
       "      <td>526</td>\n",
       "    </tr>\n",
       "    <tr>\n",
       "      <th>6</th>\n",
       "      <td>Adam Monroe</td>\n",
       "      <td>good</td>\n",
       "      <td>63</td>\n",
       "      <td>10</td>\n",
       "      <td>12</td>\n",
       "      <td>100</td>\n",
       "      <td>71</td>\n",
       "      <td>64</td>\n",
       "      <td>320</td>\n",
       "    </tr>\n",
       "    <tr>\n",
       "      <th>7</th>\n",
       "      <td>Adam Strange</td>\n",
       "      <td>good</td>\n",
       "      <td>1</td>\n",
       "      <td>1</td>\n",
       "      <td>1</td>\n",
       "      <td>1</td>\n",
       "      <td>0</td>\n",
       "      <td>1</td>\n",
       "      <td>5</td>\n",
       "    </tr>\n",
       "    <tr>\n",
       "      <th>8</th>\n",
       "      <td>Agent  13</td>\n",
       "      <td>good</td>\n",
       "      <td>1</td>\n",
       "      <td>1</td>\n",
       "      <td>1</td>\n",
       "      <td>1</td>\n",
       "      <td>0</td>\n",
       "      <td>1</td>\n",
       "      <td>5</td>\n",
       "    </tr>\n",
       "    <tr>\n",
       "      <th>9</th>\n",
       "      <td>Agent Bob</td>\n",
       "      <td>good</td>\n",
       "      <td>10</td>\n",
       "      <td>8</td>\n",
       "      <td>13</td>\n",
       "      <td>5</td>\n",
       "      <td>5</td>\n",
       "      <td>20</td>\n",
       "      <td>61</td>\n",
       "    </tr>\n",
       "    <tr>\n",
       "      <th>10</th>\n",
       "      <td>Agent Zero</td>\n",
       "      <td>good</td>\n",
       "      <td>75</td>\n",
       "      <td>28</td>\n",
       "      <td>38</td>\n",
       "      <td>80</td>\n",
       "      <td>72</td>\n",
       "      <td>95</td>\n",
       "      <td>388</td>\n",
       "    </tr>\n",
       "    <tr>\n",
       "      <th>11</th>\n",
       "      <td>Air-Walker</td>\n",
       "      <td>bad</td>\n",
       "      <td>50</td>\n",
       "      <td>85</td>\n",
       "      <td>100</td>\n",
       "      <td>85</td>\n",
       "      <td>100</td>\n",
       "      <td>40</td>\n",
       "      <td>460</td>\n",
       "    </tr>\n",
       "    <tr>\n",
       "      <th>12</th>\n",
       "      <td>Alan Scott</td>\n",
       "      <td>good</td>\n",
       "      <td>63</td>\n",
       "      <td>80</td>\n",
       "      <td>23</td>\n",
       "      <td>90</td>\n",
       "      <td>98</td>\n",
       "      <td>32</td>\n",
       "      <td>386</td>\n",
       "    </tr>\n",
       "    <tr>\n",
       "      <th>13</th>\n",
       "      <td>Alex Woolsly</td>\n",
       "      <td>good</td>\n",
       "      <td>1</td>\n",
       "      <td>1</td>\n",
       "      <td>1</td>\n",
       "      <td>1</td>\n",
       "      <td>0</td>\n",
       "      <td>1</td>\n",
       "      <td>5</td>\n",
       "    </tr>\n",
       "    <tr>\n",
       "      <th>14</th>\n",
       "      <td>Alfred Pennyworth</td>\n",
       "      <td>good</td>\n",
       "      <td>63</td>\n",
       "      <td>10</td>\n",
       "      <td>17</td>\n",
       "      <td>10</td>\n",
       "      <td>7</td>\n",
       "      <td>55</td>\n",
       "      <td>162</td>\n",
       "    </tr>\n",
       "    <tr>\n",
       "      <th>15</th>\n",
       "      <td>Allan Quatermain</td>\n",
       "      <td>good</td>\n",
       "      <td>1</td>\n",
       "      <td>1</td>\n",
       "      <td>1</td>\n",
       "      <td>1</td>\n",
       "      <td>0</td>\n",
       "      <td>1</td>\n",
       "      <td>5</td>\n",
       "    </tr>\n",
       "    <tr>\n",
       "      <th>16</th>\n",
       "      <td>Amazo</td>\n",
       "      <td>bad</td>\n",
       "      <td>75</td>\n",
       "      <td>100</td>\n",
       "      <td>100</td>\n",
       "      <td>100</td>\n",
       "      <td>100</td>\n",
       "      <td>100</td>\n",
       "      <td>575</td>\n",
       "    </tr>\n",
       "    <tr>\n",
       "      <th>17</th>\n",
       "      <td>Ammo</td>\n",
       "      <td>bad</td>\n",
       "      <td>1</td>\n",
       "      <td>1</td>\n",
       "      <td>1</td>\n",
       "      <td>1</td>\n",
       "      <td>0</td>\n",
       "      <td>1</td>\n",
       "      <td>5</td>\n",
       "    </tr>\n",
       "    <tr>\n",
       "      <th>18</th>\n",
       "      <td>Ando Masahashi</td>\n",
       "      <td>good</td>\n",
       "      <td>1</td>\n",
       "      <td>1</td>\n",
       "      <td>1</td>\n",
       "      <td>1</td>\n",
       "      <td>0</td>\n",
       "      <td>1</td>\n",
       "      <td>5</td>\n",
       "    </tr>\n",
       "    <tr>\n",
       "      <th>19</th>\n",
       "      <td>Angel</td>\n",
       "      <td>good</td>\n",
       "      <td>63</td>\n",
       "      <td>13</td>\n",
       "      <td>46</td>\n",
       "      <td>64</td>\n",
       "      <td>17</td>\n",
       "      <td>42</td>\n",
       "      <td>245</td>\n",
       "    </tr>\n",
       "    <tr>\n",
       "      <th>20</th>\n",
       "      <td>Angel Salvadore</td>\n",
       "      <td>good</td>\n",
       "      <td>38</td>\n",
       "      <td>10</td>\n",
       "      <td>28</td>\n",
       "      <td>28</td>\n",
       "      <td>46</td>\n",
       "      <td>60</td>\n",
       "      <td>210</td>\n",
       "    </tr>\n",
       "    <tr>\n",
       "      <th>21</th>\n",
       "      <td>Angela</td>\n",
       "      <td>bad</td>\n",
       "      <td>1</td>\n",
       "      <td>1</td>\n",
       "      <td>1</td>\n",
       "      <td>1</td>\n",
       "      <td>0</td>\n",
       "      <td>1</td>\n",
       "      <td>5</td>\n",
       "    </tr>\n",
       "    <tr>\n",
       "      <th>22</th>\n",
       "      <td>Animal Man</td>\n",
       "      <td>good</td>\n",
       "      <td>56</td>\n",
       "      <td>48</td>\n",
       "      <td>47</td>\n",
       "      <td>85</td>\n",
       "      <td>73</td>\n",
       "      <td>80</td>\n",
       "      <td>389</td>\n",
       "    </tr>\n",
       "    <tr>\n",
       "      <th>23</th>\n",
       "      <td>Annihilus</td>\n",
       "      <td>bad</td>\n",
       "      <td>75</td>\n",
       "      <td>80</td>\n",
       "      <td>47</td>\n",
       "      <td>56</td>\n",
       "      <td>59</td>\n",
       "      <td>64</td>\n",
       "      <td>381</td>\n",
       "    </tr>\n",
       "    <tr>\n",
       "      <th>24</th>\n",
       "      <td>Ant-Man</td>\n",
       "      <td>good</td>\n",
       "      <td>100</td>\n",
       "      <td>10</td>\n",
       "      <td>23</td>\n",
       "      <td>28</td>\n",
       "      <td>32</td>\n",
       "      <td>32</td>\n",
       "      <td>225</td>\n",
       "    </tr>\n",
       "  </tbody>\n",
       "</table>\n",
       "</div>"
      ],
      "text/plain": [
       "                 Name Alignment  Intelligence  Strength  Speed  Durability  \\\n",
       "0             3-D Man      good            50        31     43          32   \n",
       "1              A-Bomb      good            38       100     17          80   \n",
       "2          Abe Sapien      good            88        14     35          42   \n",
       "3            Abin Sur      good            50        90     53          64   \n",
       "4         Abomination       bad            63        80     53          90   \n",
       "5             Abraxas       bad            88       100     83          99   \n",
       "6         Adam Monroe      good            63        10     12         100   \n",
       "7        Adam Strange      good             1         1      1           1   \n",
       "8           Agent  13      good             1         1      1           1   \n",
       "9           Agent Bob      good            10         8     13           5   \n",
       "10         Agent Zero      good            75        28     38          80   \n",
       "11         Air-Walker       bad            50        85    100          85   \n",
       "12         Alan Scott      good            63        80     23          90   \n",
       "13       Alex Woolsly      good             1         1      1           1   \n",
       "14  Alfred Pennyworth      good            63        10     17          10   \n",
       "15   Allan Quatermain      good             1         1      1           1   \n",
       "16              Amazo       bad            75       100    100         100   \n",
       "17               Ammo       bad             1         1      1           1   \n",
       "18     Ando Masahashi      good             1         1      1           1   \n",
       "19              Angel      good            63        13     46          64   \n",
       "20    Angel Salvadore      good            38        10     28          28   \n",
       "21             Angela       bad             1         1      1           1   \n",
       "22         Animal Man      good            56        48     47          85   \n",
       "23          Annihilus       bad            75        80     47          56   \n",
       "24            Ant-Man      good           100        10     23          28   \n",
       "\n",
       "    Power  Combat  Total  \n",
       "0      25      52    233  \n",
       "1      17      64    316  \n",
       "2      35      85    299  \n",
       "3      84      65    406  \n",
       "4      55      95    436  \n",
       "5     100      56    526  \n",
       "6      71      64    320  \n",
       "7       0       1      5  \n",
       "8       0       1      5  \n",
       "9       5      20     61  \n",
       "10     72      95    388  \n",
       "11    100      40    460  \n",
       "12     98      32    386  \n",
       "13      0       1      5  \n",
       "14      7      55    162  \n",
       "15      0       1      5  \n",
       "16    100     100    575  \n",
       "17      0       1      5  \n",
       "18      0       1      5  \n",
       "19     17      42    245  \n",
       "20     46      60    210  \n",
       "21      0       1      5  \n",
       "22     73      80    389  \n",
       "23     59      64    381  \n",
       "24     32      32    225  "
      ]
     },
     "execution_count": 43,
     "metadata": {},
     "output_type": "execute_result"
    }
   ],
   "source": [
    "stats_df.head(25)"
   ]
  },
  {
   "cell_type": "markdown",
   "metadata": {},
   "source": [
    "A quick look at the top 25 rows of the dataset shows that there may be two scales being used. This may call for some trimming of the data as it looks like many of the rows are on a binary scale while others are on a 100 base"
   ]
  },
  {
   "cell_type": "code",
   "execution_count": 52,
   "metadata": {},
   "outputs": [],
   "source": [
    "# Adjusting Dataframe to only contain the 100 base heros & villians\n",
    "adjusted_df = stats_df[stats_df['Total']>=6]"
   ]
  },
  {
   "cell_type": "code",
   "execution_count": 53,
   "metadata": {
    "scrolled": true
   },
   "outputs": [
    {
     "data": {
      "image/png": "[encoded data removed]",
      "text/plain": [
       "<matplotlib.figure.Figure at 0x25cac2e82e8>"
      ]
     },
     "metadata": {},
     "output_type": "display_data"
    }
   ],
   "source": [
    "plt.figure(figsize=(10, 15))\n",
    "\n",
    "plt.subplot(3,2,1)\n",
    "plt.boxplot(adjusted_df['Intelligence'])\n",
    "plt.title('Intelligence')\n",
    "\n",
    "plt.subplot(3,2,2)\n",
    "plt.boxplot(adjusted_df['Strength'])\n",
    "plt.title('Strength')\n",
    "\n",
    "plt.subplot(3,2,3)\n",
    "plt.boxplot(adjusted_df['Speed'])\n",
    "plt.title('Speed')\n",
    "\n",
    "plt.subplot(3,2,4)\n",
    "plt.boxplot(adjusted_df['Durability'])\n",
    "plt.title('Durability')\n",
    "\n",
    "plt.subplot(3,2,5)\n",
    "plt.boxplot(adjusted_df['Power'])\n",
    "plt.title('Power')\n",
    "\n",
    "plt.subplot(3,2,6)\n",
    "plt.boxplot(adjusted_df['Combat'])\n",
    "plt.title('Combat')\n",
    "\n",
    "plt.show()"
   ]
  },
  {
   "cell_type": "markdown",
   "metadata": {},
   "source": [
    "The boxplots show that there is some variance in where the interquartile ranges fall for the different stats. Also shows that Intelligence and Durability seem to have some outliers beyond the 100 scale, but is only using the adjusted dataframe."
   ]
  },
  {
   "cell_type": "code",
   "execution_count": 54,
   "metadata": {
    "scrolled": true
   },
   "outputs": [
    {
     "data": {
      "image/png": "[encoded data removed]",
      "text/plain": [
       "<matplotlib.figure.Figure at 0x25cac2fd668>"
      ]
     },
     "metadata": {},
     "output_type": "display_data"
    }
   ],
   "source": [
    "plt.figure(figsize=(10, 15))\n",
    "\n",
    "plt.subplot(3,2,1)\n",
    "plt.hist(adjusted_df['Intelligence'], normed=True, bins=20)\n",
    "plt.title('Intelligence')\n",
    "\n",
    "plt.subplot(3,2,2)\n",
    "plt.hist(adjusted_df['Strength'], normed=True, bins=20)\n",
    "plt.title('Strength')\n",
    "\n",
    "plt.subplot(3,2,3)\n",
    "plt.hist(adjusted_df['Speed'], normed=True, bins=20)\n",
    "plt.title('Speed')\n",
    "\n",
    "plt.subplot(3,2,4)\n",
    "plt.hist(adjusted_df['Durability'], normed=True, bins=20)\n",
    "plt.title('Durability')\n",
    "\n",
    "plt.subplot(3,2,5)\n",
    "plt.hist(adjusted_df['Power'], normed=True, bins=20)\n",
    "plt.title('Power')\n",
    "\n",
    "plt.subplot(3,2,6)\n",
    "plt.hist(adjusted_df['Combat'], normed=True, bins=20)\n",
    "plt.title('Combat')\n",
    "\n",
    "plt.show()"
   ]
  },
  {
   "cell_type": "markdown",
   "metadata": {},
   "source": [
    "The final plots show the histograms normalized using the same adjusted dataframe that was used in the boxplot charts. The adjusted histograms show that the concentration of the stats varies."
   ]
  },
  {
   "cell_type": "markdown",
   "metadata": {},
   "source": [
    "### Unit 3"
   ]
  },
  {
   "cell_type": "markdown",
   "metadata": {},
   "source": [
    "#### Drill - Describing Data"
   ]
  },
  {
   "cell_type": "code",
   "execution_count": 25,
   "metadata": {
    "scrolled": true
   },
   "outputs": [
    {
     "name": "stdout",
     "output_type": "stream",
     "text": [
      "Mean = 9.85714285714\n",
      "Median = 10.0\n",
      "Mode = 8\n",
      "Variance = 6.40816326531\n",
      "Standard Deviation = 2.53143502095\n",
      "Standard Error = 3.72564980538\n"
     ]
    }
   ],
   "source": [
    "# 1\n",
    "ages = [14, 12, 11, 10, 8, 6, 8]\n",
    "mean = np.mean(ages)\n",
    "median = np.median(ages)\n",
    "mode = statistics.mode(ages)\n",
    "variance = np.var(ages)\n",
    "std = np.std(ages)\n",
    "SE = mean/(len(ages)**.5)\n",
    "\n",
    "print('Mean =', mean)\n",
    "print('Median =', median)\n",
    "print('Mode =', mode)\n",
    "print('Variance =', variance)\n",
    "print('Standard Deviation =', std)\n",
    "print('Standard Error =', SE)"
   ]
  },
  {
   "cell_type": "code",
   "execution_count": 26,
   "metadata": {},
   "outputs": [],
   "source": [
    "# 2"
   ]
  },
  {
   "cell_type": "markdown",
   "metadata": {},
   "source": [
    "Mean, it gives the average of the ages which is useful with the number of kids.\n",
    "\n",
    "Variance, it gives information on the age range of the children. "
   ]
  },
  {
   "cell_type": "code",
   "execution_count": 27,
   "metadata": {},
   "outputs": [
    {
     "name": "stdout",
     "output_type": "stream",
     "text": [
      "Mean = 10.0\n",
      "Median = 10.0\n",
      "Mode = 8\n",
      "Variance = 5.42857142857\n",
      "Standard Deviation = 2.32992949004\n",
      "Standard Error = 3.77964473009\n"
     ]
    }
   ],
   "source": [
    "# 3\n",
    "ages = [14, 12, 11, 10, 8, 7, 8]\n",
    "mean = np.mean(ages)\n",
    "median = np.median(ages)\n",
    "mode = statistics.mode(ages)\n",
    "variance = np.var(ages)\n",
    "std = np.std(ages)\n",
    "SE = mean/(len(ages)**.5)\n",
    "\n",
    "print('Mean =', mean)\n",
    "print('Median =', median)\n",
    "print('Mode =', mode)\n",
    "print('Variance =', variance)\n",
    "print('Standard Deviation =', std)\n",
    "print('Standard Error =', SE)"
   ]
  },
  {
   "cell_type": "markdown",
   "metadata": {},
   "source": [
    "Mean, Variance, Standard Deviation, Standard Error"
   ]
  },
  {
   "cell_type": "code",
   "execution_count": 29,
   "metadata": {},
   "outputs": [
    {
     "name": "stdout",
     "output_type": "stream",
     "text": [
      "Mean = 9.0\n",
      "Median = 10.0\n",
      "Variance = 15.4285714286\n",
      "Standard Deviation = 3.92792202425\n",
      "Standard Error = 3.40168025708\n"
     ]
    }
   ],
   "source": [
    "#4\n",
    "ages = [14, 12, 11, 10, 8, 7, 1]\n",
    "mean = np.mean(ages)\n",
    "median = np.median(ages)\n",
    "#mode = statistics.mode(ages)\n",
    "variance = np.var(ages)\n",
    "std = np.std(ages)\n",
    "SE = mean/(len(ages)**.5)\n",
    "\n",
    "print('Mean =', mean)\n",
    "print('Median =', median)\n",
    "#print('Mode =', mode)\n",
    "print('Variance =', variance)\n",
    "print('Standard Deviation =', std)\n",
    "print('Standard Error =', SE)"
   ]
  },
  {
   "cell_type": "markdown",
   "metadata": {},
   "source": [
    "Yes, as there is no longer a mode since no age is repeated.\n",
    "\n",
    "No, the methods are unchanged."
   ]
  },
  {
   "cell_type": "code",
   "execution_count": 30,
   "metadata": {},
   "outputs": [
    {
     "name": "stdout",
     "output_type": "stream",
     "text": [
      "16.25 = % adult americans that watched 50th anniversary episode\n"
     ]
    }
   ],
   "source": [
    "#5\n",
    "percent_liked = [20, 23, 17, 5]\n",
    "print(np.mean(percent_liked), '= % adult americans that watched 50th anniversary episode')"
   ]
  },
  {
   "cell_type": "markdown",
   "metadata": {},
   "source": [
    "#### DRILL - Exercises in Probability"
   ]
  },
  {
   "cell_type": "markdown",
   "metadata": {},
   "source": [
    "1\n",
    "Since order matters each pattern is equal to the  .5  x  .5  x  .5  x  .5"
   ]
  },
  {
   "cell_type": "code",
   "execution_count": 32,
   "metadata": {},
   "outputs": [
    {
     "data": {
      "text/plain": [
       "0.0625"
      ]
     },
     "execution_count": 32,
     "metadata": {},
     "output_type": "execute_result"
    }
   ],
   "source": [
    ".5*.5*.5*.5"
   ]
  },
  {
   "cell_type": "markdown",
   "metadata": {},
   "source": [
    "2\n",
    "\n",
    "24/45 = probabilty of not choosing a man"
   ]
  },
  {
   "cell_type": "code",
   "execution_count": 36,
   "metadata": {},
   "outputs": [
    {
     "name": "stdout",
     "output_type": "stream",
     "text": [
      "Probability Bernice will be in a plane crash this year:  0.0005 %\n"
     ]
    }
   ],
   "source": [
    "#3\n",
    "prob_travel = .1\n",
    "prob_crash = .00005\n",
    "prob_bernice_crash = prob_travel*prob_crash*100\n",
    "print('Probability Bernice will be in a plane crash this year: ', prob_bernice_crash,'%')"
   ]
  },
  {
   "cell_type": "markdown",
   "metadata": {},
   "source": [
    "4\n",
    "It assumes that everyone takes the survey and that people who take the survey are the same as people who don't"
   ]
  },
  {
   "cell_type": "markdown",
   "metadata": {},
   "source": [
    " #### Drill - Exercises in Bayes' Rule"
   ]
  },
  {
   "cell_type": "code",
   "execution_count": 43,
   "metadata": {},
   "outputs": [
    {
     "name": "stdout",
     "output_type": "stream",
     "text": [
      "Probability of Positive:  0.1044\n"
     ]
    }
   ],
   "source": [
    "#1\n",
    "print('Probability of Positive: ', .98*.005+.1*.995)"
   ]
  },
  {
   "cell_type": "code",
   "execution_count": 45,
   "metadata": {},
   "outputs": [
    {
     "name": "stdout",
     "output_type": "stream",
     "text": [
      "Probability of correctly diagnosing infected: 98%\n"
     ]
    }
   ],
   "source": [
    "#2\n",
    "print('Probability of correctly diagnosing infected: 98%')"
   ]
  },
  {
   "cell_type": "code",
   "execution_count": 46,
   "metadata": {},
   "outputs": [
    {
     "name": "stdout",
     "output_type": "stream",
     "text": [
      "Probability of correctly diagnosing non-infected: 90%\n"
     ]
    }
   ],
   "source": [
    "#3\n",
    "print('Probability of correctly diagnosing non-infected: 90%')"
   ]
  },
  {
   "cell_type": "code",
   "execution_count": 47,
   "metadata": {},
   "outputs": [
    {
     "name": "stdout",
     "output_type": "stream",
     "text": [
      "Probability of misclassification:  0.09960000000000002\n"
     ]
    }
   ],
   "source": [
    "#4\n",
    "print('Probability of misclassification: ', 1-(.98*.005+.9*.995))"
   ]
  },
  {
   "cell_type": "markdown",
   "metadata": {},
   "source": [
    "#### Drill - Evaluating Data Sources"
   ]
  },
  {
   "cell_type": "markdown",
   "metadata": {},
   "source": [
    "1 You will get a skewed look of popular neighborhoods as its Xmas eve\n",
    "\n",
    " - Look at availability for the whole year\n",
    "\n",
    "2 The day after 9/11 in NYC will be quite different than that of anywhere else\n",
    "\n",
    " - Look at mental health services for variouse cities over time\n",
    "\n",
    "3 That seems like an obvious question as most people visit local pubs"
   ]
  },
  {
   "cell_type": "markdown",
   "metadata": {},
   "source": [
    "#### Challenge - Beware of Monty Hall"
   ]
  },
  {
   "cell_type": "markdown",
   "metadata": {},
   "source": [
    "You should switch doors, as by switching you are choosing the 2/3 probability of being correct to th 1/3 probability you had previously"
   ]
  },
  {
   "cell_type": "markdown",
   "metadata": {},
   "source": [
    "#### DRILL - Descriptive Statistics and Normality"
   ]
  },
  {
   "cell_type": "code",
   "execution_count": 49,
   "metadata": {},
   "outputs": [],
   "source": [
    "#1\n",
    "drill_var = np.random.normal(0,2,100)"
   ]
  },
  {
   "cell_type": "code",
   "execution_count": 56,
   "metadata": {},
   "outputs": [
    {
     "data": {
      "image/png": "[encoded data removed]",
      "text/plain": [
       "<matplotlib.figure.Figure at 0x27076444358>"
      ]
     },
     "metadata": {},
     "output_type": "display_data"
    }
   ],
   "source": [
    "#2\n",
    "plt.hist(drill_var, bins=20)\n",
    "plt.show()"
   ]
  },
  {
   "cell_type": "code",
   "execution_count": 54,
   "metadata": {},
   "outputs": [
    {
     "name": "stdout",
     "output_type": "stream",
     "text": [
      "Mean =  -0.364004232544\n",
      "Standard Deviation =  1.8021392447\n"
     ]
    }
   ],
   "source": [
    "#3\n",
    "mean = np.mean(drill_var)\n",
    "print('Mean = ', mean)\n",
    "\n",
    "std = np.std(drill_var)\n",
    "print('Standard Deviation = ', std)"
   ]
  },
  {
   "cell_type": "code",
   "execution_count": 59,
   "metadata": {},
   "outputs": [
    {
     "data": {
      "image/png": "[encoded data removed]",
      "text/plain": [
       "<matplotlib.figure.Figure at 0x27076552f98>"
      ]
     },
     "metadata": {},
     "output_type": "display_data"
    }
   ],
   "source": [
    "plt.hist(drill_var, bins=20)\n",
    "plt.axvline(mean, color = 'r', linestyle='solid', linewidth=2)\n",
    "plt.axvline(mean+std, color = 'r', linestyle='dashed', linewidth=2)\n",
    "plt.axvline(mean-std, color = 'r', linestyle='dashed', linewidth=2)\n",
    "plt.show()"
   ]
  },
  {
   "cell_type": "markdown",
   "metadata": {},
   "source": [
    "4\n",
    "The distribution is skewed away from the zero mean as the random sample was heavier on the negative side, this would normalize with a larger sample size"
   ]
  },
  {
   "cell_type": "code",
   "execution_count": 66,
   "metadata": {},
   "outputs": [
    {
     "name": "stdout",
     "output_type": "stream",
     "text": [
      "Mean =  15.0327394175\n",
      "Standard Deviation =  1.15556940092\n"
     ]
    },
    {
     "data": {
      "image/png": "[encoded data removed]",
      "text/plain": [
       "<matplotlib.figure.Figure at 0x2707654ec88>"
      ]
     },
     "metadata": {},
     "output_type": "display_data"
    }
   ],
   "source": [
    "#Additionally\n",
    "#1\n",
    "dist_1 = np.random.normal(5,.5,100)\n",
    "dist_2 = np.random.normal(10,1,100)\n",
    "#2\n",
    "dist_combo = dist_1+dist_2\n",
    "#3\n",
    "plt.hist(dist_combo, bins=20)\n",
    "#4\n",
    "mean = np.mean(dist_combo)\n",
    "std = np.std(dist_combo)\n",
    "\n",
    "print('Mean = ', mean)\n",
    "print('Standard Deviation = ', std)\n",
    "\n",
    "plt.axvline(mean, color = 'r', linestyle='solid', linewidth=2)\n",
    "plt.axvline(mean+std, color = 'r', linestyle='dashed', linewidth=2)\n",
    "plt.axvline(mean-std, color = 'r', linestyle='dashed', linewidth=2)\n",
    "plt.show()\n",
    "#5\n"
   ]
  },
  {
   "cell_type": "markdown",
   "metadata": {},
   "source": [
    "The descriptive statistics are close to what the addition of the mean and std would be"
   ]
  },
  {
   "cell_type": "markdown",
   "metadata": {},
   "source": [
    "#### DRILL - Exploring the Central Limit Theorem"
   ]
  },
  {
   "cell_type": "code",
   "execution_count": 68,
   "metadata": {},
   "outputs": [
    {
     "name": "stdout",
     "output_type": "stream",
     "text": [
      "Mean Sample 1:  1.85\n",
      "Mean Sample 2:  4.88\n",
      "Standard Deviation Sample 1 1.21963109177\n",
      "Standard Deviation Sample 2 1.3876599007\n"
     ]
    }
   ],
   "source": [
    "pop1 = np.random.binomial(10, 0.2, 10000)\n",
    "pop2 = np.random.binomial(10,0.5, 10000) \n",
    "\n",
    "sample1 = np.random.choice(pop1, 100, replace=True)\n",
    "sample2 = np.random.choice(pop2, 100, replace=True)\n",
    "\n",
    "mean_s1 = np.mean(sample1)\n",
    "mean_s2 = np.mean(sample2)\n",
    "\n",
    "std_1 = np.std(sample1)\n",
    "std_2 = np.std(sample2)\n",
    "\n",
    "print('Mean Sample 1: ', mean_s1)\n",
    "print('Mean Sample 2: ', mean_s2)\n",
    "print('Standard Deviation Sample 1', std_1)\n",
    "print('Standard Deviation Sample 2', std_2)"
   ]
  },
  {
   "cell_type": "code",
   "execution_count": 73,
   "metadata": {},
   "outputs": [
    {
     "name": "stdout",
     "output_type": "stream",
     "text": [
      "Mean Sample 1:  2.0\n",
      "Mean Sample 2:  4.949\n",
      "Standard Deviation Sample 1 1.25139921688\n",
      "Standard Deviation Sample 2 1.5919795853\n"
     ]
    },
    {
     "data": {
      "image/png": "[encoded data removed]",
      "text/plain": [
       "<matplotlib.figure.Figure at 0x270767777b8>"
      ]
     },
     "metadata": {},
     "output_type": "display_data"
    }
   ],
   "source": [
    "## 1 \n",
    "# Increasing samples to 1000\n",
    "\n",
    "sample1 = np.random.choice(pop1, 1000, replace=True)\n",
    "sample2 = np.random.choice(pop2, 1000, replace=True)\n",
    "\n",
    "mean_s1 = np.mean(sample1)\n",
    "mean_s2 = np.mean(sample2)\n",
    "\n",
    "std_1 = np.std(sample1)\n",
    "std_2 = np.std(sample2)\n",
    "\n",
    "print('Mean Sample 1: ', mean_s1)\n",
    "print('Mean Sample 2: ', mean_s2)\n",
    "print('Standard Deviation Sample 1', std_1)\n",
    "print('Standard Deviation Sample 2', std_2)\n",
    "\n",
    "plt.hist(sample1, bins=20, label='Sample 1')\n",
    "plt.hist(sample2, bins=20, label='Sample 2')\n",
    "plt.legend(loc='upper right')\n",
    "plt.show()"
   ]
  },
  {
   "cell_type": "code",
   "execution_count": 74,
   "metadata": {},
   "outputs": [
    {
     "name": "stdout",
     "output_type": "stream",
     "text": [
      "Mean Sample 1:  2.3\n",
      "Mean Sample 2:  4.8\n",
      "Standard Deviation Sample 1 1.48660687473\n",
      "Standard Deviation Sample 2 1.63095064303\n"
     ]
    },
    {
     "data": {
      "image/png": "[encoded data removed]",
      "text/plain": [
       "<matplotlib.figure.Figure at 0x270767c2630>"
      ]
     },
     "metadata": {},
     "output_type": "display_data"
    }
   ],
   "source": [
    "# Decreasing samples to 20\n",
    "sample1 = np.random.choice(pop1, 20, replace=True)\n",
    "sample2 = np.random.choice(pop2, 20, replace=True)\n",
    "\n",
    "mean_s1 = np.mean(sample1)\n",
    "mean_s2 = np.mean(sample2)\n",
    "\n",
    "std_1 = np.std(sample1)\n",
    "std_2 = np.std(sample2)\n",
    "\n",
    "print('Mean Sample 1: ', mean_s1)\n",
    "print('Mean Sample 2: ', mean_s2)\n",
    "print('Standard Deviation Sample 1', std_1)\n",
    "print('Standard Deviation Sample 2', std_2)\n",
    "\n",
    "plt.hist(sample1, bins=20, label='Sample 1')\n",
    "plt.hist(sample2, bins=20, label='Sample 2')\n",
    "plt.legend(loc='upper right')\n",
    "plt.show()"
   ]
  },
  {
   "cell_type": "markdown",
   "metadata": {},
   "source": [
    "The sample means stay close to the same while the standard deviations vary more"
   ]
  },
  {
   "cell_type": "code",
   "execution_count": 76,
   "metadata": {},
   "outputs": [
    {
     "name": "stdout",
     "output_type": "stream",
     "text": [
      "Mean Sample 1:  2.74\n",
      "Mean Sample 2:  4.99\n",
      "Standard Deviation Sample 1 1.56601404847\n",
      "Standard Deviation Sample 2 1.5652156401\n",
      "Ttest_indResult(statistic=10.11114114854834, pvalue=1.2134990219099311e-19)\n"
     ]
    }
   ],
   "source": [
    "#2\n",
    "# changing the p-value of population 1 to .3\n",
    "\n",
    "pop1 = np.random.binomial(10, 0.3, 10000)\n",
    "\n",
    "sample1 = np.random.choice(pop1, 100, replace=True)\n",
    "sample2 = np.random.choice(pop2, 100, replace=True)\n",
    "\n",
    "mean_s1 = np.mean(sample1)\n",
    "mean_s2 = np.mean(sample2)\n",
    "\n",
    "std_1 = np.std(sample1)\n",
    "std_2 = np.std(sample2)\n",
    "\n",
    "print('Mean Sample 1: ', mean_s1)\n",
    "print('Mean Sample 2: ', mean_s2)\n",
    "print('Standard Deviation Sample 1', std_1)\n",
    "print('Standard Deviation Sample 2', std_2)\n",
    "\n",
    "print(ttest_ind(sample2, sample1, equal_var=False))"
   ]
  },
  {
   "cell_type": "code",
   "execution_count": 77,
   "metadata": {},
   "outputs": [
    {
     "name": "stdout",
     "output_type": "stream",
     "text": [
      "Mean Sample 1:  4.28\n",
      "Mean Sample 2:  4.98\n",
      "Standard Deviation Sample 1 1.51049660708\n",
      "Standard Deviation Sample 2 1.83836884221\n",
      "Ttest_indResult(statistic=2.9272606067430091, pvalue=0.0038353236586436152)\n"
     ]
    }
   ],
   "source": [
    "# changing the p-value of population 1 to .4\n",
    "\n",
    "pop1 = np.random.binomial(10, 0.4, 10000)\n",
    "\n",
    "sample1 = np.random.choice(pop1, 100, replace=True)\n",
    "sample2 = np.random.choice(pop2, 100, replace=True)\n",
    "\n",
    "mean_s1 = np.mean(sample1)\n",
    "mean_s2 = np.mean(sample2)\n",
    "\n",
    "std_1 = np.std(sample1)\n",
    "std_2 = np.std(sample2)\n",
    "\n",
    "print('Mean Sample 1: ', mean_s1)\n",
    "print('Mean Sample 2: ', mean_s2)\n",
    "print('Standard Deviation Sample 1', std_1)\n",
    "print('Standard Deviation Sample 2', std_2)\n",
    "\n",
    "print(ttest_ind(sample2, sample1, equal_var=False))"
   ]
  },
  {
   "cell_type": "markdown",
   "metadata": {},
   "source": [
    "As the two populations become more similar the pvalue increases as there is less real difference betweent he two samples, and thus the difference betweent the 2 is less causign the T-stat to fall"
   ]
  },
  {
   "cell_type": "code",
   "execution_count": 79,
   "metadata": {},
   "outputs": [
    {
     "name": "stdout",
     "output_type": "stream",
     "text": [
      "Mean Sample 1:  400.5724653\n",
      "Mean Sample 2:  500.386619866\n",
      "Standard Deviation Sample 1 253.044777867\n",
      "Standard Deviation Sample 2 273.624410395\n",
      "Ttest_indResult(statistic=26.780347146167358, pvalue=3.0888344407710074e-155)\n"
     ]
    }
   ],
   "source": [
    "#3\n",
    "sample1 = np.random.gamma(pop1, 100)\n",
    "sample2 = np.random.gamma(pop2, 100)\n",
    "\n",
    "mean_s1 = np.mean(sample1)\n",
    "mean_s2 = np.mean(sample2)\n",
    "\n",
    "std_1 = np.std(sample1)\n",
    "std_2 = np.std(sample2)\n",
    "\n",
    "print('Mean Sample 1: ', mean_s1)\n",
    "print('Mean Sample 2: ', mean_s2)\n",
    "print('Standard Deviation Sample 1', std_1)\n",
    "print('Standard Deviation Sample 2', std_2)\n",
    "\n",
    "print(ttest_ind(sample2, sample1, equal_var=False))"
   ]
  },
  {
   "cell_type": "code",
   "execution_count": null,
   "metadata": {},
   "outputs": [],
   "source": []
  }
 ],
 "metadata": {
  "kernelspec": {
   "display_name": "Python 3",
   "language": "python",
   "name": "python3"
  },
  "language_info": {
   "codemirror_mode": {
    "name": "ipython",
    "version": 3
   },
   "file_extension": ".py",
   "mimetype": "text/x-python",
   "name": "python",
   "nbconvert_exporter": "python",
   "pygments_lexer": "ipython3",
   "version": "3.6.3"
  }
 },
 "nbformat": 4,
 "nbformat_minor": 2
}
