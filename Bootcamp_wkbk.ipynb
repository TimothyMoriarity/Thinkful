{
 "cells": [
  {
   "cell_type": "code",
   "execution_count": 1,
   "metadata": {},
   "outputs": [],
   "source": [
    "import pandas as pd\n",
    "import numpy as np\n",
    "import matplotlib.pyplot as plt\n",
    "import statistics\n",
    "import math\n",
    "import random\n",
    "\n",
    "from scipy.stats import ttest_ind\n",
    "%matplotlib inline"
   ]
  },
  {
   "cell_type": "markdown",
   "metadata": {},
   "source": [
    "### Unit 1: Data and analysis - data science for investigations"
   ]
  },
  {
   "cell_type": "markdown",
   "metadata": {},
   "source": [
    "#### Lesson 1: What is data science?"
   ]
  },
  {
   "cell_type": "markdown",
   "metadata": {},
   "source": [
    "##### Drill: What can data science do?"
   ]
  },
  {
   "cell_type": "markdown",
   "metadata": {},
   "source": [
    "1.\n",
    "\n",
    "I would look at what currents adds were converting the best, and tell them to drop the ones that were not doing as well. I would use the purchase activity and current add conversions to see what adds may be redudant as the product is selling without the add. As well as what products aren't selling and if the add campaign needs changing.\n",
    "\n",
    "I would do this by comparing the information on all 3 products and thus trying to best understand what is the driving factor by the sales of lack of sales of each."
   ]
  },
  {
   "cell_type": "markdown",
   "metadata": {},
   "source": [
    "2.\n",
    "\n",
    "I would look at the order of the onboarding funnel, let plan choice come before email/password setup. I would the do testing to see if there is any chane in the rates with the new order. I would also look to see how payment schedules compare to competitors."
   ]
  },
  {
   "cell_type": "markdown",
   "metadata": {},
   "source": [
    "3.\n",
    "\n",
    "I would first filter by what is available, as no one cares about the prices of hotel rooms they can't rent. Then I would sort by the price, thus allowing a price analysis for the customer of only the available hotels in the city"
   ]
  },
  {
   "cell_type": "markdown",
   "metadata": {},
   "source": [
    "4.\n",
    "\n",
    "I would look at the variance of the log in periods over time to see if there is a drop off in user time the longer they have the app. I would compare, older users, to newer users behaviors to see differences."
   ]
  },
  {
   "cell_type": "markdown",
   "metadata": {},
   "source": [
    "#### Lesson 2: SQL - data access methods"
   ]
  },
  {
   "cell_type": "markdown",
   "metadata": {},
   "source": [
    "##### Drill: Select, from, where"
   ]
  },
  {
   "cell_type": "code",
   "execution_count": 1,
   "metadata": {},
   "outputs": [],
   "source": [
    "#1. The ID's and durations for all trips of duration greater than 500,\n",
    "#    ordered by duration.\n",
    "\n",
    "#SELECT\n",
    "#     trip_id,\n",
    "#     bike_id,\n",
    "#     duration\n",
    "# FROM \n",
    "#     trips\n",
    "# WHERE \n",
    "#     duration>500\n",
    "# ORDER BY duration DESC"
   ]
  },
  {
   "cell_type": "code",
   "execution_count": 3,
   "metadata": {},
   "outputs": [],
   "source": [
    "#2. Every column of the stations table for station id 84.\n",
    "\n",
    "#     SELECT\n",
    "#         *\n",
    "#     FROM \n",
    "#         stations\n",
    "#     WHERE \n",
    "#         station_id=84"
   ]
  },
  {
   "cell_type": "code",
   "execution_count": null,
   "metadata": {},
   "outputs": [],
   "source": [
    "#3. The min temperatures of all the occurrences of rain in zip 94301.\n",
    "\n",
    "# SELECT\n",
    "#   MinTemperatureF\n",
    "# FROM \n",
    "#   weather\n",
    "# WHERE \n",
    "#   ZIP=94301 AND\n",
    "#   PrecipitationIn >= 0"
   ]
  },
  {
   "cell_type": "markdown",
   "metadata": {},
   "source": [
    "##### Drill: Aggregates and groups"
   ]
  },
  {
   "cell_type": "code",
   "execution_count": 2,
   "metadata": {},
   "outputs": [],
   "source": [
    "#1. What was the hottest day in our data set? Where was that? 134 degrees F, 94063\n",
    "\n",
    "# SELECT\n",
    "#     MAX(MaxTemperatureF),\n",
    "#     ZIP\n",
    "# FROM\n",
    "#     weather"
   ]
  },
  {
   "cell_type": "code",
   "execution_count": 3,
   "metadata": {},
   "outputs": [],
   "source": [
    "#2. How many trips started at each station?\n",
    "\n",
    "# SELECT\n",
    "#     count(start_station) starts,\n",
    "#    start_station name_of_station\n",
    "# FROM\n",
    "#     trips\n",
    "# GROUP BY\n",
    "#   start_station"
   ]
  },
  {
   "cell_type": "code",
   "execution_count": 4,
   "metadata": {},
   "outputs": [],
   "source": [
    "#3 What's the shortest trip that happened?\n",
    "\n",
    "# 60, Mezes\n",
    "\n",
    "# SELECT\n",
    "#     min(duration) shortest,\n",
    "#     start_station name_of_station\n",
    "# FROM\n",
    "#     trips"
   ]
  },
  {
   "cell_type": "code",
   "execution_count": null,
   "metadata": {},
   "outputs": [],
   "source": [
    "#4 What is the average trip duration, by end station?\n",
    "\n",
    "# SELECT\n",
    "#     avg(duration) avg_duration,\n",
    "#     end_station name_of_station\n",
    "# FROM\n",
    "#     trips\n",
    "# GROUP BY\n",
    "#     end_station"
   ]
  },
  {
   "cell_type": "markdown",
   "metadata": {},
   "source": [
    "##### Drill: Joins and CTEs"
   ]
  },
  {
   "cell_type": "code",
   "execution_count": null,
   "metadata": {},
   "outputs": [],
   "source": []
  }
 ],
 "metadata": {
  "kernelspec": {
   "display_name": "Python 3",
   "language": "python",
   "name": "python3"
  },
  "language_info": {
   "codemirror_mode": {
    "name": "ipython",
    "version": 3
   },
   "file_extension": ".py",
   "mimetype": "text/x-python",
   "name": "python",
   "nbconvert_exporter": "python",
   "pygments_lexer": "ipython3",
   "version": "3.6.3"
  }
 },
 "nbformat": 4,
 "nbformat_minor": 2
}
